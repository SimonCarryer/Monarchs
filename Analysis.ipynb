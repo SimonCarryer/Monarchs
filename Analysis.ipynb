{
 "cells": [
  {
   "cell_type": "markdown",
   "metadata": {},
   "source": [
    "# Predicting the Length of a British Monarch's Reign\n",
    "\n",
    "In this workbook I'm gonna do some analysis on British Monarchs, and see if we can identify factors that contribute to a longer or shorter time on the throne. The meat of the analysis is using simple linear regression to identify the contribution of various factors."
   ]
  },
  {
   "cell_type": "code",
   "execution_count": 2,
   "metadata": {},
   "outputs": [],
   "source": [
    "# Importing all kinds of stuff\n",
    "\n",
    "import pandas as pd\n",
    "import matplotlib.pyplot as plt\n",
    "import datetime\n",
    "import numpy as np\n",
    "import arrow\n",
    "import re\n",
    "from sklearn.feature_extraction.text import CountVectorizer\n",
    "from sklearn.linear_model import LinearRegression\n",
    "from scipy.interpolate import UnivariateSpline\n",
    "from sklearn.model_selection import train_test_split\n",
    "from sklearn.metrics import r2_score\n",
    "\n",
    "\n",
    "%matplotlib inline"
   ]
  },
  {
   "cell_type": "markdown",
   "metadata": {},
   "source": [
    "## Importing and cleaning data\n",
    "\n",
    "There's four csvs of data I'm importing, and they all need greater or lesser degrees of cleaning. A lot of the features I'm pulling out of these datasets were actually the result of lots of faffing around trying various things, but I've put them all together here."
   ]
  },
  {
   "cell_type": "code",
   "execution_count": 3,
   "metadata": {},
   "outputs": [],
   "source": [
    "# \"Birth Dates\" is the birth dates of various monarchs\n",
    "\n",
    "birthdates = pd.read_csv('birth_dates.csv')\n",
    "birthdates['days_parsed'] = birthdates.Days.apply(lambda x: x.replace(',', '')).astype('int')\n",
    "birthdates.index = birthdates.Monarch.apply(lambda x: re.sub('King |Queen ', '', x)).values"
   ]
  },
  {
   "cell_type": "code",
   "execution_count": 4,
   "metadata": {},
   "outputs": [],
   "source": [
    "# \"Wars\" is the dates of wars that ocurred on British soil\n",
    "\n",
    "wars = pd.read_csv('wars.csv')"
   ]
  },
  {
   "cell_type": "code",
   "execution_count": 5,
   "metadata": {},
   "outputs": [],
   "source": [
    "# \"Temperatures\" is the average temperature at 50-year intervals, \n",
    "# which I use for some ridiculous spurious correllations later.\n",
    "\n",
    "temperatures = pd.read_csv('warm_period.txt', delimiter=' ')\n",
    "\n",
    "# ugly little helper method\n",
    "def snip_number(x, n):\n",
    "    match = re.findall('(\\d+)', x)\n",
    "    if len(match) > n:\n",
    "        return match[n]\n",
    "\n",
    "temperatures['start'] = temperatures.year.apply(snip_number, args=(0,)).astype('int')\n",
    "temperatures['end'] = temperatures.year.apply(snip_number, args=(1,)).astype('int')\n",
    "temperatures['diff_from_mean'] = temperatures['adjusted_year'] - temperatures['adjusted_year'].mean()"
   ]
  },
  {
   "cell_type": "code",
   "execution_count": 6,
   "metadata": {},
   "outputs": [],
   "source": [
    "# This is the juice: The reigns of each monarch since 1066 or so.\n",
    "\n",
    "df = pd.read_csv('monarchs_cleaned.csv')"
   ]
  },
  {
   "cell_type": "code",
   "execution_count": 7,
   "metadata": {},
   "outputs": [],
   "source": [
    "df['start_date_parsed'] = df.apply(lambda x: arrow.get(\n",
    "                        x['Cleaned Start dates'] + ' ' + str(x['First regnal year']),\n",
    "                         'D MMMM YYYY')\n",
    "                                     , axis=1)\n",
    "df['Age at ascension'] = (df.Monarch.map(birthdates['days_parsed'].to_dict()) / 365).round()\n",
    "df['Minor'] = (df['Age at ascension'] <= 14)*1\n",
    "df['Woman'] = df.Monarch.apply(lambda x: any(i in x for i in ['Mary', 'Elizabeth', 'Victoria']))*1\n",
    "df['previous reign'] = df['Cleaned Years'].shift(1).fillna(0)\n",
    "df['Years since 1066'] = df['First regnal year'] - 1066\n",
    "\n",
    "# Some of the data was in a weird format, so I just fix some of those by hand\n",
    "df.iloc[0,11] = 38\n",
    "df.iloc[1,11] = 31\n",
    "df.iloc[5,11] = 31\n",
    "df.iloc[8,11] = 19\n",
    "df.iloc[27,11] = 38\n",
    "df.iloc[28,11] = 38"
   ]
  },
  {
   "cell_type": "code",
   "execution_count": 8,
   "metadata": {},
   "outputs": [],
   "source": [
    "# A bunch of badly-written helpers here for figuring out if there were any wrs around the time the monarch took power. \n",
    "\n",
    "def on_or_between(row, year):\n",
    "    if pd.isnull(row.end):\n",
    "        return year >= int(row.start) and year <= int(row.start)\n",
    "    else:\n",
    "        return year > int(row.start) and year <= int(row.end)\n",
    "    \n",
    "def near(row, year):\n",
    "    if pd.isnull(row.end):\n",
    "        return year >= int(row.start) -3 and year <= int(row.start)\n",
    "    else:\n",
    "        return year > int(row.start) -3 and year <= int(row.end)\n",
    "\n",
    "def any_wars(year, func):\n",
    "    return wars.apply(func, axis=1, args=(year,)).any()\n",
    "\n",
    "def any_civil_wars(year, func):\n",
    "    return wars[wars.Notes == 'Civil war'].apply(func, axis=1, args=(year,)).any()\n",
    "    \n",
    "df['civil war during ascencion'] = df['First regnal year'].apply(any_civil_wars, args=(on_or_between,))*1\n",
    "df['war during ascencion'] = df['First regnal year'].apply(any_wars, args=(on_or_between,))*1\n",
    "df['war near ascencion'] = df['First regnal year'].apply(any_wars, args=(near,))*1"
   ]
  },
  {
   "cell_type": "code",
   "execution_count": 9,
   "metadata": {},
   "outputs": [],
   "source": [
    "# Getting the average temperature at the time the monarch took the throne.\n",
    "\n",
    "mask = temperatures.apply(lambda r: df['First regnal year'].between(r.start, r.end), axis=1).T\n",
    "df['temperature'] = mask.dot(mask.columns).apply(lambda x: temperatures.adjusted_year[x] if x > 0 else 9.41)\n",
    "df.temperature = df.temperature-df.temperature.mean()"
   ]
  },
  {
   "cell_type": "code",
   "execution_count": 10,
   "metadata": {},
   "outputs": [],
   "source": [
    "# This is a bit overcomplicated: I'm pivoting out the \"claim\" column, \n",
    "# which is a text field with, like, \"inherited\", \"usurped\", etc. in it,\n",
    "# and turning it into a bunch of columns, one for each category, and containing ones and zeroes.\n",
    "# I bet there's a less obscure way of doing this.\n",
    "\n",
    "chocula = CountVectorizer()\n",
    "\n",
    "chocula.fit(df.Claim)\n",
    "\n",
    "df = df.join(pd.DataFrame(chocula.transform(df.Claim).toarray(), columns=chocula.get_feature_names()))"
   ]
  },
  {
   "cell_type": "code",
   "execution_count": 11,
   "metadata": {},
   "outputs": [
    {
     "data": {
      "text/plain": [
       "Monarch                                       William I\n",
       "No. of Years                                         21\n",
       "First regnal year                                  1066\n",
       "Regnal year start date                       14 October\n",
       "Regnal year end date                         13 October\n",
       "End of final year                            9 Sep 1087\n",
       "Cleaned Years                                        21\n",
       "Cleaned Start dates                          14 October\n",
       "Cleaned end date                             9 Sep 1087\n",
       "Claim                                          conquest\n",
       "start_date_parsed             1066-10-14T00:00:00+00:00\n",
       "Age at ascension                                     38\n",
       "Minor                                                 0\n",
       "Woman                                                 0\n",
       "previous reign                                        0\n",
       "Years since 1066                                      0\n",
       "civil war during ascencion                            0\n",
       "war during ascencion                                  0\n",
       "war near ascencion                                    1\n",
       "temperature                                   0.0782927\n",
       "conquest                                              1\n",
       "inherited                                             0\n",
       "treaty                                                0\n",
       "usurped                                               0\n",
       "Name: 0, dtype: object"
      ]
     },
     "execution_count": 11,
     "metadata": {},
     "output_type": "execute_result"
    }
   ],
   "source": [
    "# Let's have a look at an example of a single monarch from our final data set\n",
    "\n",
    "df.loc[0]"
   ]
  },
  {
   "cell_type": "markdown",
   "metadata": {},
   "source": [
    "## Some Summary Statistics\n",
    "\n",
    "I'll start out with some basic description of the dataset and look for patterns or basic correllations in the data."
   ]
  },
  {
   "cell_type": "code",
   "execution_count": 12,
   "metadata": {},
   "outputs": [
    {
     "data": {
      "text/html": [
       "<div>\n",
       "<style scoped>\n",
       "    .dataframe tbody tr th:only-of-type {\n",
       "        vertical-align: middle;\n",
       "    }\n",
       "\n",
       "    .dataframe tbody tr th {\n",
       "        vertical-align: top;\n",
       "    }\n",
       "\n",
       "    .dataframe thead th {\n",
       "        text-align: right;\n",
       "    }\n",
       "</style>\n",
       "<table border=\"1\" class=\"dataframe\">\n",
       "  <thead>\n",
       "    <tr style=\"text-align: right;\">\n",
       "      <th></th>\n",
       "      <th>Cleaned Years</th>\n",
       "      <th>Age at ascension</th>\n",
       "      <th>temperature</th>\n",
       "    </tr>\n",
       "  </thead>\n",
       "  <tbody>\n",
       "    <tr>\n",
       "      <th>count</th>\n",
       "      <td>41.000000</td>\n",
       "      <td>41.000000</td>\n",
       "      <td>4.100000e+01</td>\n",
       "    </tr>\n",
       "    <tr>\n",
       "      <th>mean</th>\n",
       "      <td>23.560976</td>\n",
       "      <td>30.975610</td>\n",
       "      <td>-5.848980e-15</td>\n",
       "    </tr>\n",
       "    <tr>\n",
       "      <th>std</th>\n",
       "      <td>17.903978</td>\n",
       "      <td>14.547316</td>\n",
       "      <td>4.570771e-01</td>\n",
       "    </tr>\n",
       "    <tr>\n",
       "      <th>min</th>\n",
       "      <td>1.000000</td>\n",
       "      <td>1.000000</td>\n",
       "      <td>-6.217073e-01</td>\n",
       "    </tr>\n",
       "    <tr>\n",
       "      <th>25%</th>\n",
       "      <td>10.000000</td>\n",
       "      <td>22.000000</td>\n",
       "      <td>-3.217073e-01</td>\n",
       "    </tr>\n",
       "    <tr>\n",
       "      <th>50%</th>\n",
       "      <td>20.000000</td>\n",
       "      <td>31.000000</td>\n",
       "      <td>-8.170732e-02</td>\n",
       "    </tr>\n",
       "    <tr>\n",
       "      <th>75%</th>\n",
       "      <td>35.000000</td>\n",
       "      <td>38.000000</td>\n",
       "      <td>1.782927e-01</td>\n",
       "    </tr>\n",
       "    <tr>\n",
       "      <th>max</th>\n",
       "      <td>65.000000</td>\n",
       "      <td>65.000000</td>\n",
       "      <td>8.782927e-01</td>\n",
       "    </tr>\n",
       "  </tbody>\n",
       "</table>\n",
       "</div>"
      ],
      "text/plain": [
       "       Cleaned Years  Age at ascension   temperature\n",
       "count      41.000000         41.000000  4.100000e+01\n",
       "mean       23.560976         30.975610 -5.848980e-15\n",
       "std        17.903978         14.547316  4.570771e-01\n",
       "min         1.000000          1.000000 -6.217073e-01\n",
       "25%        10.000000         22.000000 -3.217073e-01\n",
       "50%        20.000000         31.000000 -8.170732e-02\n",
       "75%        35.000000         38.000000  1.782927e-01\n",
       "max        65.000000         65.000000  8.782927e-01"
      ]
     },
     "execution_count": 12,
     "metadata": {},
     "output_type": "execute_result"
    }
   ],
   "source": [
    "# Describing some of the numeric columns\n",
    "\n",
    "df[['Cleaned Years', 'Age at ascension', 'temperature']].describe()"
   ]
  },
  {
   "cell_type": "code",
   "execution_count": 13,
   "metadata": {},
   "outputs": [
    {
     "data": {
      "text/plain": [
       "0    36\n",
       "1     5\n",
       "Name: Woman, dtype: int64"
      ]
     },
     "execution_count": 13,
     "metadata": {},
     "output_type": "execute_result"
    }
   ],
   "source": [
    "df.Woman.value_counts()"
   ]
  },
  {
   "cell_type": "code",
   "execution_count": 14,
   "metadata": {},
   "outputs": [
    {
     "data": {
      "image/png": "[encoded data removed]",
      "text/plain": [
       "<Figure size 432x288 with 1 Axes>"
      ]
     },
     "metadata": {
      "needs_background": "light"
     },
     "output_type": "display_data"
    }
   ],
   "source": [
    "# How monarchs took the throne\n",
    "\n",
    "df[['conquest', 'inherited', 'treaty', 'usurped']].sum().plot(kind='bar')\n",
    "plt.show()"
   ]
  },
  {
   "cell_type": "code",
   "execution_count": 15,
   "metadata": {},
   "outputs": [
    {
     "data": {
      "image/png": "[encoded data removed]",
      "text/plain": [
       "<Figure size 432x288 with 1 Axes>"
      ]
     },
     "metadata": {
      "needs_background": "light"
     },
     "output_type": "display_data"
    }
   ],
   "source": [
    "# Patterns over time, plus how monarchs took the throne\n",
    "\n",
    "cmap = df['usurped'].shift(1).fillna(0).astype(int).map({0:'green', 1:'red'})\n",
    "\n",
    "plt.bar(df.index, df['Cleaned Years'], color=cmap)\n",
    "plt.title('Years on Throne')\n",
    "plt.ylabel('Years')\n",
    "plt.xlabel('Monarch No. (in date order)')\n",
    "plt.annotate('Red bars indicate a monarch who was usurped', (1, 65))\n",
    "plt.show()"
   ]
  },
  {
   "cell_type": "code",
   "execution_count": 16,
   "metadata": {},
   "outputs": [
    {
     "name": "stdout",
     "output_type": "stream",
     "text": [
      "Age at ascension -48\n",
      "Minor 14\n",
      "Woman 27\n",
      "previous reign -8\n",
      "Years since 1066 -3\n",
      "civil war during ascencion 6\n",
      "war during ascencion -8\n",
      "war near ascencion -19\n",
      "temperature 23\n",
      "conquest -2\n",
      "inherited 27\n",
      "treaty -1\n",
      "usurped -29\n"
     ]
    }
   ],
   "source": [
    "# Corellations between various features and time on the throne.\n",
    "\n",
    "cols = df.columns[11:]\n",
    "for col in cols:\n",
    "    corr = float(df[col].corr(df['Cleaned Years']))\n",
    "    print(col, int(round(corr*100)))"
   ]
  },
  {
   "cell_type": "markdown",
   "metadata": {},
   "source": [
    "We can see in the cell above that there are a few features that are strongly correllated with the length of a monarch's reign. \"Age at ascencion\" is an obvious one, as is inheriting the throne, rather than usurping it. But there are other correllations which are a little more surprising. Being a woman improves your odds of a long reign. The most interesting correllation, for me, was the link between averge tempertures and a long, peaceful reign.\n",
    "\n",
    "We'll tease out more details of this in the next section."
   ]
  },
  {
   "cell_type": "markdown",
   "metadata": {},
   "source": [
    "## Regression Analysis\n",
    "\n",
    "Using linear regression to understand the relationships between some features"
   ]
  },
  {
   "cell_type": "code",
   "execution_count": 17,
   "metadata": {},
   "outputs": [
    {
     "data": {
      "image/png": "[encoded data removed]",
      "text/plain": [
       "<Figure size 432x288 with 1 Axes>"
      ]
     },
     "metadata": {
      "needs_background": "light"
     },
     "output_type": "display_data"
    }
   ],
   "source": [
    "# The biggest single influence on length of reign is age at ascension. Here we plot that relationship.\n",
    "\n",
    "x = df['Age at ascension']\n",
    "y = df['Cleaned Years']\n",
    "\n",
    "plt.scatter(x, y)\n",
    "\n",
    "z = np.polyfit(x, y, 1)\n",
    "p = np.poly1d(z)\n",
    "plt.plot(x,p(x),\"r--\")\n",
    "\n",
    "for label, x, y in zip(df.Monarch, x, y):\n",
    "    if x < 5 or x > 60 or (y < 3 and x < 15):\n",
    "        plt.annotate(\n",
    "        label,\n",
    "        xy = (x, y+2),\n",
    "        ha = 'center'\n",
    "        )\n",
    "\n",
    "plt.xlabel('Age at ascension')\n",
    "plt.ylabel('Length of Reign (years)')\n",
    "\n",
    "plt.savefig('age.png')\n",
    "plt.show()"
   ]
  },
  {
   "cell_type": "code",
   "execution_count": 18,
   "metadata": {},
   "outputs": [
    {
     "name": "stdout",
     "output_type": "stream",
     "text": [
      "Age at ascension -0.7869079549838937\n",
      "Minor -12.951243707088503\n"
     ]
    }
   ],
   "source": [
    "# There's some outliers though - some young monarchs that ruled for a short time. \n",
    "# Let's see the effect of taking the throne very young/ \n",
    "\n",
    "lino = LinearRegression()\n",
    "\n",
    "cols = ['Age at ascension', 'Minor']\n",
    "\n",
    "lino.fit(df[cols], df['Cleaned Years'].values.reshape(-1,1))\n",
    "\n",
    "for feature, coef in zip(cols, lino.coef_[0]):\n",
    "    print(feature, coef)"
   ]
  },
  {
   "cell_type": "code",
   "execution_count": 19,
   "metadata": {},
   "outputs": [
    {
     "data": {
      "image/png": "[encoded data removed]",
      "text/plain": [
       "<Figure size 432x288 with 1 Axes>"
      ]
     },
     "metadata": {
      "needs_background": "light"
     },
     "output_type": "display_data"
    }
   ],
   "source": [
    "# Looks like taking the throne under the age of 14 knocks about 13 years off your expected reign.\n",
    "# Let's look at the chart again, adjusting for this effect.\n",
    "\n",
    "x = df['Age at ascension']\n",
    "\n",
    "y = df['Cleaned Years'] - ((df['Age at ascension'] < 14) * lino.coef_[0][1])\n",
    "\n",
    "plt.scatter(x, \n",
    "            y,\n",
    "            c = (df['Age at ascension'] < 14).map({False:'blue', True:'red'})\n",
    "           )\n",
    "\n",
    "z = np.polyfit(x, y, 1)\n",
    "p = np.poly1d(z)\n",
    "plt.plot(x,p(x),\"r--\")\n",
    "\n",
    "label_names = ['Henry VI', 'William V', 'Richard III', 'Edward V', 'George III', 'Victoria', 'Elizabeth II']\n",
    "\n",
    "for label, x, y, pred_y in zip(df.Monarch, x, y, lino.predict(df[['Age at ascension', 'Minor']])):\n",
    "    if label in label_names:\n",
    "        plt.annotate(\n",
    "        label,\n",
    "        xy = (x, y+2),\n",
    "        ha = 'center'\n",
    "        )\n",
    "plt.title('Adjusted for Monarchs aged < 14yrs.')\n",
    "plt.xlabel('Age at ascension')\n",
    "plt.ylabel('Length of Reign (adjusted)')\n",
    "plt.annotate('(Red dots have adjusted values)', (65, 60), ha='right')\n",
    "plt.savefig('age_adjusted.png')\n",
    "plt.show()"
   ]
  },
  {
   "cell_type": "markdown",
   "metadata": {},
   "source": [
    "### Temperature\n",
    "\n",
    "One of the interesting correllations we saw was between average temperatures and length of reign. In this section I'll look at how temperature changes due to the \"Medieval Warm Period\" align with variance from an \"expected length of reign\" generated from the model we created above."
   ]
  },
  {
   "cell_type": "code",
   "execution_count": 20,
   "metadata": {},
   "outputs": [],
   "source": [
    "predictions = pd.Series([i[0] for i in lino.predict(df[['Age at ascension', 'Minor']])])"
   ]
  },
  {
   "cell_type": "code",
   "execution_count": 21,
   "metadata": {},
   "outputs": [],
   "source": [
    "def year_temp(year):\n",
    "    try:\n",
    "        return temperatures[(temperatures.start <= year) & (temperatures.end > year-1)].diff_from_mean.values[0]\n",
    "    except:\n",
    "        return 0.06\n"
   ]
  },
  {
   "cell_type": "code",
   "execution_count": 22,
   "metadata": {},
   "outputs": [
    {
     "data": {
      "image/png": "[encoded data removed]",
      "text/plain": [
       "<Figure size 432x288 with 2 Axes>"
      ]
     },
     "metadata": {
      "needs_background": "light"
     },
     "output_type": "display_data"
    }
   ],
   "source": [
    "x = df['First regnal year'] + (df['First regnal year'].rank(method='first')/1000)\n",
    "y = df['Cleaned Years'] - predictions\n",
    "\n",
    "y_mean = y.rolling(6).mean()\n",
    "y_low = y_mean - y.rolling(6).std()\n",
    "\n",
    "y_low_smooth = UnivariateSpline(x, y_low.fillna(y_low[5]), k=4, s=200)(range(1066,1952))\n",
    "y_high = y_mean + y.rolling(6).std()\n",
    "y_high_smooth = UnivariateSpline(x, y_high.fillna(y_high[5]), k=4, s=200)(range(1066,1952))\n",
    "\n",
    "\n",
    "fig, ax1 = plt.subplots()\n",
    "\n",
    "ax2 = ax1.twinx()\n",
    "\n",
    "ax1.fill_between(range(1066,1952), y_high_smooth, y_low_smooth, color='red', alpha=0.25)\n",
    "ax1.scatter(\n",
    "        x=x,\n",
    "        y=y,\n",
    "        c='red')\n",
    "\n",
    "ax2.plot(range(1066,1952), \n",
    "            pd.Series(range(1066,1952)).apply(year_temp),\n",
    "         c='blue'\n",
    "           )\n",
    "ax2.set_ylim([-1,1])\n",
    "\n",
    "for label, x, y in zip(df.Monarch, x, y):\n",
    "    if label in ['Richard III', 'Edward V', 'George III', 'Victoria']:\n",
    "        ax1.annotate(\n",
    "        label,\n",
    "        xy = (x, y+(x/900)),\n",
    "        ha = 'center'\n",
    "        )\n",
    "\n",
    "ax1.set_xlabel('Year')\n",
    "ax1.set_ylabel('Difference from expected reign length (years)')\n",
    "ax2.set_ylabel('Temperature difference from mean (degrees)')\n",
    "plt.title('Effect of Medieval Climatic Anomaly on Length of Regnancy')\n",
    "\n",
    "plt.savefig('temp_error_correllation.png', bbox_inches='tight')\n",
    "plt.show()"
   ]
  },
  {
   "cell_type": "markdown",
   "metadata": {
    "collapsed": true
   },
   "source": [
    "## Final Model\n",
    "\n",
    "Let's make a model that tries to predict how long a monarch will reign. We'll use some of the features we explored previously. "
   ]
  },
  {
   "cell_type": "code",
   "execution_count": 23,
   "metadata": {},
   "outputs": [],
   "source": [
    "train, test = train_test_split(df, test_size = 0.2)\n",
    "linus = LinearRegression()\n",
    "features = ['Minor', 'Age at ascension', 'Years since 1066', 'temperature', 'usurped']\n",
    "linus.fit(train[features], train['Cleaned Years'])\n",
    "predictions = linus.predict(test[features])"
   ]
  },
  {
   "cell_type": "code",
   "execution_count": 24,
   "metadata": {
    "scrolled": true
   },
   "outputs": [
    {
     "data": {
      "image/png": "[encoded data removed]",
      "text/plain": [
       "<Figure size 432x288 with 1 Axes>"
      ]
     },
     "metadata": {
      "needs_background": "light"
     },
     "output_type": "display_data"
    }
   ],
   "source": [
    "plt.scatter(\n",
    "    test['Cleaned Years'],\n",
    "    predictions  \n",
    "    )\n",
    "\n",
    "for label, x, y in zip(test.Monarch, test['Cleaned Years'], predictions):\n",
    "        plt.annotate(\n",
    "        label,\n",
    "        xy = (x, y),\n",
    "        ha = 'center'\n",
    "        )\n",
    "\n",
    "plt.ylabel('Predicted Length of Reign')\n",
    "plt.xlabel('Actual Length of Reign')\n",
    "plt.savefig('predicted_vs_actual_test.png', bbox_inches='tight')\n",
    "plt.show()"
   ]
  },
  {
   "cell_type": "markdown",
   "metadata": {},
   "source": [
    "So our model is not exactly _super_ accurate, but it does ok?"
   ]
  },
  {
   "cell_type": "code",
   "execution_count": 25,
   "metadata": {},
   "outputs": [
    {
     "name": "stdout",
     "output_type": "stream",
     "text": [
      "Baseline:  48.950258803532996\n",
      "Minor -21.67\n",
      "Age at ascension -1.0\n",
      "Years since 1066 0.03\n",
      "temperature 12.86\n",
      "usurped -10.8\n"
     ]
    }
   ],
   "source": [
    "# Here's the coeficients for each of our features. \n",
    "# A neat thing about linear regression is that the coeficients are in the same units as the value we're predicting.\n",
    "# That means we can translate directly from the coeficients \n",
    "# to a number of years added or subtracted from a monarch's reign.\n",
    "\n",
    "print(\"Baseline: \", linus.intercept_)\n",
    "for feature, coef_ in zip(features, linus.coef_):\n",
    "    print(feature, round(coef_, 2))"
   ]
  },
  {
   "cell_type": "code",
   "execution_count": null,
   "metadata": {},
   "outputs": [],
   "source": []
  }
 ],
 "metadata": {
  "kernelspec": {
   "display_name": "Python 3",
   "language": "python",
   "name": "python3"
  },
  "language_info": {
   "codemirror_mode": {
    "name": "ipython",
    "version": 3
   },
   "file_extension": ".py",
   "mimetype": "text/x-python",
   "name": "python",
   "nbconvert_exporter": "python",
   "pygments_lexer": "ipython3",
   "version": "3.7.1"
  }
 },
 "nbformat": 4,
 "nbformat_minor": 1
}
